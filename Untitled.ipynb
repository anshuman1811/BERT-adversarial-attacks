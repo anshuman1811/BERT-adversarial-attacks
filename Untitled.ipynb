{
 "cells": [
  {
   "cell_type": "code",
   "execution_count": 7,
   "metadata": {},
   "outputs": [],
   "source": [
    "import pandas as pd\n",
    "import numpy as np\n",
    "import os\n",
    "import random\n",
    "import json"
   ]
  },
  {
   "cell_type": "code",
   "execution_count": 6,
   "metadata": {},
   "outputs": [],
   "source": [
    "def view_random_example(data):\n",
    "    ex = data.iloc[random.randint(0, len(data))]\n",
    "    view_example(ex)\n",
    "    \n",
    "def view_example(ex):\n",
    "    print(json.dumps(json.loads(ex.to_json()), indent=4))"
   ]
  },
  {
   "cell_type": "code",
   "execution_count": 54,
   "metadata": {},
   "outputs": [],
   "source": [
    "data = pd.read_csv('../adversarial_glue_data/RTE/shuffle_sent2/dev.tsv', delimiter='\\t', header=None)"
   ]
  },
  {
   "cell_type": "code",
   "execution_count": 55,
   "metadata": {},
   "outputs": [
    {
     "data": {
      "text/html": [
       "<div>\n",
       "<style scoped>\n",
       "    .dataframe tbody tr th:only-of-type {\n",
       "        vertical-align: middle;\n",
       "    }\n",
       "\n",
       "    .dataframe tbody tr th {\n",
       "        vertical-align: top;\n",
       "    }\n",
       "\n",
       "    .dataframe thead th {\n",
       "        text-align: right;\n",
       "    }\n",
       "</style>\n",
       "<table border=\"1\" class=\"dataframe\">\n",
       "  <thead>\n",
       "    <tr style=\"text-align: right;\">\n",
       "      <th></th>\n",
       "      <th>0</th>\n",
       "      <th>1</th>\n",
       "      <th>2</th>\n",
       "      <th>3</th>\n",
       "    </tr>\n",
       "  </thead>\n",
       "  <tbody>\n",
       "    <tr>\n",
       "      <th>0</th>\n",
       "      <td>index</td>\n",
       "      <td>sentence1</td>\n",
       "      <td>sentence2</td>\n",
       "      <td>label</td>\n",
       "    </tr>\n",
       "    <tr>\n",
       "      <th>1</th>\n",
       "      <td>0</td>\n",
       "      <td>Dana Reeve, the widow of the actor Christopher...</td>\n",
       "      <td>had an Reeve accident. Christopher</td>\n",
       "      <td>not_entailment</td>\n",
       "    </tr>\n",
       "    <tr>\n",
       "      <th>2</th>\n",
       "      <td>1</td>\n",
       "      <td>Yet, we now are discovering that antibiotics a...</td>\n",
       "      <td>antibiotics. winning is Bacteria the war against</td>\n",
       "      <td>entailment</td>\n",
       "    </tr>\n",
       "    <tr>\n",
       "      <th>3</th>\n",
       "      <td>2</td>\n",
       "      <td>Cairo is now home to some 15 million people - ...</td>\n",
       "      <td>15 in Cairo. produced tonnes are rubbish milli...</td>\n",
       "      <td>not_entailment</td>\n",
       "    </tr>\n",
       "    <tr>\n",
       "      <th>4</th>\n",
       "      <td>3</td>\n",
       "      <td>The Amish community in Pennsylvania, which num...</td>\n",
       "      <td>the Amish Pennsylvania biggest has community t...</td>\n",
       "      <td>not_entailment</td>\n",
       "    </tr>\n",
       "  </tbody>\n",
       "</table>\n",
       "</div>"
      ],
      "text/plain": [
       "       0                                                  1  \\\n",
       "0  index                                          sentence1   \n",
       "1      0  Dana Reeve, the widow of the actor Christopher...   \n",
       "2      1  Yet, we now are discovering that antibiotics a...   \n",
       "3      2  Cairo is now home to some 15 million people - ...   \n",
       "4      3  The Amish community in Pennsylvania, which num...   \n",
       "\n",
       "                                                   2               3  \n",
       "0                                          sentence2           label  \n",
       "1                 had an Reeve accident. Christopher  not_entailment  \n",
       "2   antibiotics. winning is Bacteria the war against      entailment  \n",
       "3  15 in Cairo. produced tonnes are rubbish milli...  not_entailment  \n",
       "4  the Amish Pennsylvania biggest has community t...  not_entailment  "
      ]
     },
     "execution_count": 55,
     "metadata": {},
     "output_type": "execute_result"
    }
   ],
   "source": [
    "data.head()"
   ]
  },
  {
   "cell_type": "code",
   "execution_count": 57,
   "metadata": {},
   "outputs": [
    {
     "name": "stdout",
     "output_type": "stream",
     "text": [
      "{\n",
      "    \"0\": \"221\",\n",
      "    \"1\": \"Two Indian diplomats met the Indian prisoner facing death in Pakistan, Sarabjit Singh, on Tuesday at Kot Lakhpat jail in the eastern Pakistani city of Lahore.\",\n",
      "    \"2\": \"on prisoner, Indian diplomats on row, Tuesday. death met an Indian\",\n",
      "    \"3\": \"entailment\"\n",
      "}\n"
     ]
    }
   ],
   "source": [
    "view_random_example(data)"
   ]
  },
  {
   "cell_type": "code",
   "execution_count": 59,
   "metadata": {},
   "outputs": [
    {
     "name": "stdout",
     "output_type": "stream",
     "text": [
      "{\n",
      "    \"0\": \"221\",\n",
      "    \"1\": \"Two Indian diplomats met the Indian prisoner facing death in Pakistan, Sarabjit Singh, on Tuesday at Kot Lakhpat jail in the eastern Pakistani city of Lahore.\",\n",
      "    \"2\": \"Indian diplomats met an Indian prisoner, on death row, on Tuesday.\",\n",
      "    \"3\": \"entailment\"\n",
      "}\n"
     ]
    }
   ],
   "source": [
    "view_example(pd.read_csv('../glue_data/RTE/dev.tsv', delimiter='\\t', header=None).iloc[222])"
   ]
  },
  {
   "cell_type": "code",
   "execution_count": null,
   "metadata": {},
   "outputs": [],
   "source": []
  }
 ],
 "metadata": {
  "kernelspec": {
   "display_name": "Python 3",
   "language": "python",
   "name": "python3"
  },
  "language_info": {
   "codemirror_mode": {
    "name": "ipython",
    "version": 3
   },
   "file_extension": ".py",
   "mimetype": "text/x-python",
   "name": "python",
   "nbconvert_exporter": "python",
   "pygments_lexer": "ipython3",
   "version": "3.7.3"
  }
 },
 "nbformat": 4,
 "nbformat_minor": 2
}
