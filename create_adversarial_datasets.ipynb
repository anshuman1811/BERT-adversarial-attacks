{
 "cells": [
  {
   "cell_type": "code",
   "execution_count": 1,
   "metadata": {},
   "outputs": [],
   "source": [
    "import pandas as pd\n",
    "import numpy as np\n",
    "import os\n",
    "import csv"
   ]
  },
  {
   "cell_type": "code",
   "execution_count": 2,
   "metadata": {},
   "outputs": [],
   "source": [
    "import random\n",
    "def shuffle_text(text):\n",
    "    words = text.split()\n",
    "    random.shuffle(words)\n",
    "    return \" \".join(words)"
   ]
  },
  {
   "cell_type": "code",
   "execution_count": 3,
   "metadata": {},
   "outputs": [
    {
     "data": {
      "text/plain": [
       "'result, been As ulcer has disease peptic a'"
      ]
     },
     "execution_count": 3,
     "metadata": {},
     "output_type": "execute_result"
    }
   ],
   "source": [
    "text = 'As a result, peptic ulcer disease has been'\n",
    "shuffle_text(text)"
   ]
  },
  {
   "cell_type": "code",
   "execution_count": 4,
   "metadata": {},
   "outputs": [],
   "source": [
    "def write_dataframe(df, output_dir, filename):\n",
    "    if not os.path.exists(output_dir):\n",
    "        os.mkdir(output_dir)\n",
    "    df.to_csv(os.path.join(output_dir, filename), sep='\\t', index=False, encoding=\"utf-8-sig\")"
   ]
  },
  {
   "cell_type": "markdown",
   "metadata": {},
   "source": [
    "## RTE"
   ]
  },
  {
   "cell_type": "code",
   "execution_count": 5,
   "metadata": {},
   "outputs": [],
   "source": [
    "data_dir = '../glue_data/RTE/'\n",
    "rte_output_dir = '../adversarial_glue_data/RTE/'\n",
    "if not os.path.exists(rte_output_dir):\n",
    "    os.mkdir(rte_output_dir)\n",
    "\n",
    "\n",
    "rte = pd.read_csv(data_dir + 'dev.tsv', delimiter='\\t')\n",
    "# rte"
   ]
  },
  {
   "cell_type": "code",
   "execution_count": 6,
   "metadata": {},
   "outputs": [],
   "source": [
    "rte_only_sent1 = rte.copy()\n",
    "rte_only_sent1['sentence1'] = rte_only_sent1.apply(lambda row: shuffle_text(row['sentence1']), axis=1)\n",
    "\n",
    "write_dataframe(rte_only_sent1, os.path.join(rte_output_dir, 'shuffle_sent1'), 'dev.tsv')\n",
    "# rte_only_sent1"
   ]
  },
  {
   "cell_type": "code",
   "execution_count": 7,
   "metadata": {},
   "outputs": [],
   "source": [
    "rte_only_sent2 = rte.copy()\n",
    "rte_only_sent2['sentence2'] = rte_only_sent2.apply(lambda row: shuffle_text(row['sentence2']), axis=1)\n",
    "\n",
    "write_dataframe(rte_only_sent2, os.path.join(rte_output_dir, 'shuffle_sent2'), 'dev.tsv')\n",
    "# rte_only_sent2"
   ]
  },
  {
   "cell_type": "code",
   "execution_count": 8,
   "metadata": {},
   "outputs": [],
   "source": [
    "rte_both = rte.copy()\n",
    "rte_both['sentence1'] = rte_both.apply(lambda row: shuffle_text(row['sentence1']), axis=1)\n",
    "rte_both['sentence2'] = rte_both.apply(lambda row: shuffle_text(row['sentence2']), axis=1)\n",
    "\n",
    "write_dataframe(rte_both, os.path.join(rte_output_dir, 'shuffle_both'), 'dev.tsv')\n",
    "# rte_both"
   ]
  },
  {
   "cell_type": "markdown",
   "metadata": {},
   "source": [
    "## MNLI"
   ]
  },
  {
   "cell_type": "code",
   "execution_count": 9,
   "metadata": {},
   "outputs": [],
   "source": [
    "data_dir = '../glue_data/MNLI/'\n",
    "mnli_output_dir = '../adversarial_glue_data/MNLI/'\n",
    "if not os.path.exists(mnli_output_dir):\n",
    "    os.mkdir(mnli_output_dir)\n",
    "\n",
    "mnli_matched = pd.read_csv(data_dir + 'dev_matched.tsv', delimiter='\\t')\n",
    "mnli_mismatched = pd.read_csv(data_dir + 'dev_mismatched.tsv', delimiter='\\t')"
   ]
  },
  {
   "cell_type": "code",
   "execution_count": 10,
   "metadata": {
    "scrolled": true
   },
   "outputs": [
    {
     "data": {
      "text/html": [
       "<div>\n",
       "<style scoped>\n",
       "    .dataframe tbody tr th:only-of-type {\n",
       "        vertical-align: middle;\n",
       "    }\n",
       "\n",
       "    .dataframe tbody tr th {\n",
       "        vertical-align: top;\n",
       "    }\n",
       "\n",
       "    .dataframe thead th {\n",
       "        text-align: right;\n",
       "    }\n",
       "</style>\n",
       "<table border=\"1\" class=\"dataframe\">\n",
       "  <thead>\n",
       "    <tr style=\"text-align: right;\">\n",
       "      <th></th>\n",
       "      <th>index</th>\n",
       "      <th>promptID</th>\n",
       "      <th>pairID</th>\n",
       "      <th>genre</th>\n",
       "      <th>sentence1_binary_parse</th>\n",
       "      <th>sentence2_binary_parse</th>\n",
       "      <th>sentence1_parse</th>\n",
       "      <th>sentence2_parse</th>\n",
       "      <th>sentence1</th>\n",
       "      <th>sentence2</th>\n",
       "      <th>label1</th>\n",
       "      <th>label2</th>\n",
       "      <th>label3</th>\n",
       "      <th>label4</th>\n",
       "      <th>label5</th>\n",
       "      <th>gold_label</th>\n",
       "    </tr>\n",
       "  </thead>\n",
       "  <tbody>\n",
       "    <tr>\n",
       "      <th>0</th>\n",
       "      <td>0</td>\n",
       "      <td>63735</td>\n",
       "      <td>63735n</td>\n",
       "      <td>slate</td>\n",
       "      <td>( ( The ( new rights ) ) ( are ( nice enough )...</td>\n",
       "      <td>( Everyone ( really ( likes ( the ( newest ben...</td>\n",
       "      <td>(ROOT (S (NP (DT The) (JJ new) (NNS rights)) (...</td>\n",
       "      <td>(ROOT (S (NP (NN Everyone)) (VP (ADVP (RB real...</td>\n",
       "      <td>The new rights are nice enough</td>\n",
       "      <td>Everyone really likes the newest benefits</td>\n",
       "      <td>neutral</td>\n",
       "      <td>entailment</td>\n",
       "      <td>neutral</td>\n",
       "      <td>neutral</td>\n",
       "      <td>neutral</td>\n",
       "      <td>neutral</td>\n",
       "    </tr>\n",
       "    <tr>\n",
       "      <th>1</th>\n",
       "      <td>1</td>\n",
       "      <td>91383</td>\n",
       "      <td>91383c</td>\n",
       "      <td>government</td>\n",
       "      <td>( ( This site ) ( ( includes ( ( ( ( a list ) ...</td>\n",
       "      <td>( ( ( The ( Government ( Executive articles ) ...</td>\n",
       "      <td>(ROOT (S (NP (DT This) (NN site)) (VP (VBZ inc...</td>\n",
       "      <td>(ROOT (S (NP (NP (DT The) (NNP Government) (NN...</td>\n",
       "      <td>This site includes a list of all award winners...</td>\n",
       "      <td>The Government Executive articles housed on th...</td>\n",
       "      <td>contradiction</td>\n",
       "      <td>contradiction</td>\n",
       "      <td>contradiction</td>\n",
       "      <td>contradiction</td>\n",
       "      <td>contradiction</td>\n",
       "      <td>contradiction</td>\n",
       "    </tr>\n",
       "    <tr>\n",
       "      <th>2</th>\n",
       "      <td>2</td>\n",
       "      <td>755</td>\n",
       "      <td>755e</td>\n",
       "      <td>telephone</td>\n",
       "      <td>( ( ( ( uh ( i ( ( do n't ) ( know ( ( i i ) (...</td>\n",
       "      <td>( I ( ( ( ( ( ( like him ) ( for ( the ( most ...</td>\n",
       "      <td>(ROOT (SINV (S (S (INTJ (UH uh)) (NP (FW i)) (...</td>\n",
       "      <td>(ROOT (S (NP (PRP I)) (VP (VP (VBP like) (NP (...</td>\n",
       "      <td>uh i don't know i i have mixed emotions about ...</td>\n",
       "      <td>I like him for the most part, but would still ...</td>\n",
       "      <td>entailment</td>\n",
       "      <td>entailment</td>\n",
       "      <td>entailment</td>\n",
       "      <td>entailment</td>\n",
       "      <td>entailment</td>\n",
       "      <td>entailment</td>\n",
       "    </tr>\n",
       "    <tr>\n",
       "      <th>3</th>\n",
       "      <td>3</td>\n",
       "      <td>78013</td>\n",
       "      <td>78013c</td>\n",
       "      <td>telephone</td>\n",
       "      <td>( yeah ( ( i i ) ( think ( ( my ( favorite res...</td>\n",
       "      <td>( ( My ( favorite restaurants ) ) ( ( ( ( are ...</td>\n",
       "      <td>(ROOT (S (VP (VB yeah) (NP (NP (FW i) (FW i)) ...</td>\n",
       "      <td>(ROOT (S (NP (PRP$ My) (JJ favorite) (NNS rest...</td>\n",
       "      <td>yeah i i think my favorite restaurant is alway...</td>\n",
       "      <td>My favorite restaurants are always at least a ...</td>\n",
       "      <td>contradiction</td>\n",
       "      <td>contradiction</td>\n",
       "      <td>contradiction</td>\n",
       "      <td>contradiction</td>\n",
       "      <td>contradiction</td>\n",
       "      <td>contradiction</td>\n",
       "    </tr>\n",
       "    <tr>\n",
       "      <th>4</th>\n",
       "      <td>4</td>\n",
       "      <td>96377</td>\n",
       "      <td>96377c</td>\n",
       "      <td>telephone</td>\n",
       "      <td>( i ( ( do n't ) ( know ( um ( do ( you ( do (...</td>\n",
       "      <td>( I ( ( know exactly ) . ) )</td>\n",
       "      <td>(ROOT (S (NP (FW i)) (VP (VBP do) (RB n't) (VP...</td>\n",
       "      <td>(ROOT (S (NP (PRP I)) (VP (VBP know) (ADVP (RB...</td>\n",
       "      <td>i don't know um do you do a lot of camping</td>\n",
       "      <td>I know exactly.</td>\n",
       "      <td>contradiction</td>\n",
       "      <td>contradiction</td>\n",
       "      <td>contradiction</td>\n",
       "      <td>contradiction</td>\n",
       "      <td>contradiction</td>\n",
       "      <td>contradiction</td>\n",
       "    </tr>\n",
       "    <tr>\n",
       "      <th>...</th>\n",
       "      <td>...</td>\n",
       "      <td>...</td>\n",
       "      <td>...</td>\n",
       "      <td>...</td>\n",
       "      <td>...</td>\n",
       "      <td>...</td>\n",
       "      <td>...</td>\n",
       "      <td>...</td>\n",
       "      <td>...</td>\n",
       "      <td>...</td>\n",
       "      <td>...</td>\n",
       "      <td>...</td>\n",
       "      <td>...</td>\n",
       "      <td>...</td>\n",
       "      <td>...</td>\n",
       "      <td>...</td>\n",
       "    </tr>\n",
       "    <tr>\n",
       "      <th>9709</th>\n",
       "      <td>9810</td>\n",
       "      <td>11879</td>\n",
       "      <td>11879n</td>\n",
       "      <td>government</td>\n",
       "      <td>( ( Since 1998 ) ( , ( LSC ( ( has ( ( ( ( ( (...</td>\n",
       "      <td>( LSC ( ( has ( been ( focusing ( on ( ( impro...</td>\n",
       "      <td>(ROOT (S (PP (IN Since) (NP (CD 1998))) (, ,) ...</td>\n",
       "      <td>(ROOT (S (NP (NNP LSC)) (VP (VBZ has) (VP (VBN...</td>\n",
       "      <td>Since 1998, LSC has initiated and overseen sig...</td>\n",
       "      <td>LSC has been focusing on improving it's state ...</td>\n",
       "      <td>neutral</td>\n",
       "      <td>neutral</td>\n",
       "      <td>entailment</td>\n",
       "      <td>neutral</td>\n",
       "      <td>entailment</td>\n",
       "      <td>neutral</td>\n",
       "    </tr>\n",
       "    <tr>\n",
       "      <th>9710</th>\n",
       "      <td>9811</td>\n",
       "      <td>40715</td>\n",
       "      <td>40715c</td>\n",
       "      <td>slate</td>\n",
       "      <td>( ( ( Eighty percent ) ( of ( pagers ( in ( th...</td>\n",
       "      <td>( ( Pagers ( in ( the ( United States ) ) ) ) ...</td>\n",
       "      <td>(ROOT (S (NP (NP (JJ Eighty) (NN percent)) (PP...</td>\n",
       "      <td>(ROOT (S (NP (NP (NNS Pagers)) (PP (IN in) (NP...</td>\n",
       "      <td>Eighty percent of pagers in the United States ...</td>\n",
       "      <td>Pagers in the United States were unaffected by...</td>\n",
       "      <td>contradiction</td>\n",
       "      <td>contradiction</td>\n",
       "      <td>contradiction</td>\n",
       "      <td>contradiction</td>\n",
       "      <td>contradiction</td>\n",
       "      <td>contradiction</td>\n",
       "    </tr>\n",
       "    <tr>\n",
       "      <th>9711</th>\n",
       "      <td>9812</td>\n",
       "      <td>4294</td>\n",
       "      <td>4294e</td>\n",
       "      <td>government</td>\n",
       "      <td>( Finally ( , ( ( the FDA ) ( ( will ( ( ( ( (...</td>\n",
       "      <td>( ( The FDA ) ( ( is ( set ( to ( conduct work...</td>\n",
       "      <td>(ROOT (S (ADVP (RB Finally)) (, ,) (NP (DT the...</td>\n",
       "      <td>(ROOT (S (NP (DT The) (NNP FDA)) (VP (VBZ is) ...</td>\n",
       "      <td>Finally, the FDA will conduct workshops, issue...</td>\n",
       "      <td>The FDA is set to conduct workshops.</td>\n",
       "      <td>entailment</td>\n",
       "      <td>entailment</td>\n",
       "      <td>entailment</td>\n",
       "      <td>entailment</td>\n",
       "      <td>entailment</td>\n",
       "      <td>entailment</td>\n",
       "    </tr>\n",
       "    <tr>\n",
       "      <th>9712</th>\n",
       "      <td>9813</td>\n",
       "      <td>30880</td>\n",
       "      <td>30880e</td>\n",
       "      <td>travel</td>\n",
       "      <td>( ( ( Cirque ( du Soleil ) ) ( 's ( ( The late...</td>\n",
       "      <td>( ( Cirque ( du Soleil ) ) ( ( is ( an ( inter...</td>\n",
       "      <td>(ROOT (S (S (NP (NNP Cirque) (NNP du) (NNP Sol...</td>\n",
       "      <td>(ROOT (S (NP (NNP Cirque) (NNP du) (NNP Soleil...</td>\n",
       "      <td>Cirque du Soleil's The latest from the acclaim...</td>\n",
       "      <td>Cirque du Soleil is an international troupe.</td>\n",
       "      <td>entailment</td>\n",
       "      <td>entailment</td>\n",
       "      <td>entailment</td>\n",
       "      <td>entailment</td>\n",
       "      <td>entailment</td>\n",
       "      <td>entailment</td>\n",
       "    </tr>\n",
       "    <tr>\n",
       "      <th>9713</th>\n",
       "      <td>9814</td>\n",
       "      <td>76653</td>\n",
       "      <td>76653c</td>\n",
       "      <td>telephone</td>\n",
       "      <td>( i ( 'll ( ( listen and ) ( agree ( with ( wh...</td>\n",
       "      <td>( I ( ( ( wont even ) ( bother listening ) ) ....</td>\n",
       "      <td>(ROOT (S (NP (FW i)) (VP (MD 'll) (VP (VP (VB ...</td>\n",
       "      <td>(ROOT (S (NP (PRP I)) (VP (VBP wont) (RB even)...</td>\n",
       "      <td>i'll listen  and agree with what i think sound...</td>\n",
       "      <td>I wont even bother listening.</td>\n",
       "      <td>contradiction</td>\n",
       "      <td>contradiction</td>\n",
       "      <td>contradiction</td>\n",
       "      <td>contradiction</td>\n",
       "      <td>contradiction</td>\n",
       "      <td>contradiction</td>\n",
       "    </tr>\n",
       "  </tbody>\n",
       "</table>\n",
       "<p>9714 rows × 16 columns</p>\n",
       "</div>"
      ],
      "text/plain": [
       "      index  promptID  pairID       genre  \\\n",
       "0         0     63735  63735n       slate   \n",
       "1         1     91383  91383c  government   \n",
       "2         2       755    755e   telephone   \n",
       "3         3     78013  78013c   telephone   \n",
       "4         4     96377  96377c   telephone   \n",
       "...     ...       ...     ...         ...   \n",
       "9709   9810     11879  11879n  government   \n",
       "9710   9811     40715  40715c       slate   \n",
       "9711   9812      4294   4294e  government   \n",
       "9712   9813     30880  30880e      travel   \n",
       "9713   9814     76653  76653c   telephone   \n",
       "\n",
       "                                 sentence1_binary_parse  \\\n",
       "0     ( ( The ( new rights ) ) ( are ( nice enough )...   \n",
       "1     ( ( This site ) ( ( includes ( ( ( ( a list ) ...   \n",
       "2     ( ( ( ( uh ( i ( ( do n't ) ( know ( ( i i ) (...   \n",
       "3     ( yeah ( ( i i ) ( think ( ( my ( favorite res...   \n",
       "4     ( i ( ( do n't ) ( know ( um ( do ( you ( do (...   \n",
       "...                                                 ...   \n",
       "9709  ( ( Since 1998 ) ( , ( LSC ( ( has ( ( ( ( ( (...   \n",
       "9710  ( ( ( Eighty percent ) ( of ( pagers ( in ( th...   \n",
       "9711  ( Finally ( , ( ( the FDA ) ( ( will ( ( ( ( (...   \n",
       "9712  ( ( ( Cirque ( du Soleil ) ) ( 's ( ( The late...   \n",
       "9713  ( i ( 'll ( ( listen and ) ( agree ( with ( wh...   \n",
       "\n",
       "                                 sentence2_binary_parse  \\\n",
       "0     ( Everyone ( really ( likes ( the ( newest ben...   \n",
       "1     ( ( ( The ( Government ( Executive articles ) ...   \n",
       "2     ( I ( ( ( ( ( ( like him ) ( for ( the ( most ...   \n",
       "3     ( ( My ( favorite restaurants ) ) ( ( ( ( are ...   \n",
       "4                          ( I ( ( know exactly ) . ) )   \n",
       "...                                                 ...   \n",
       "9709  ( LSC ( ( has ( been ( focusing ( on ( ( impro...   \n",
       "9710  ( ( Pagers ( in ( the ( United States ) ) ) ) ...   \n",
       "9711  ( ( The FDA ) ( ( is ( set ( to ( conduct work...   \n",
       "9712  ( ( Cirque ( du Soleil ) ) ( ( is ( an ( inter...   \n",
       "9713  ( I ( ( ( wont even ) ( bother listening ) ) ....   \n",
       "\n",
       "                                        sentence1_parse  \\\n",
       "0     (ROOT (S (NP (DT The) (JJ new) (NNS rights)) (...   \n",
       "1     (ROOT (S (NP (DT This) (NN site)) (VP (VBZ inc...   \n",
       "2     (ROOT (SINV (S (S (INTJ (UH uh)) (NP (FW i)) (...   \n",
       "3     (ROOT (S (VP (VB yeah) (NP (NP (FW i) (FW i)) ...   \n",
       "4     (ROOT (S (NP (FW i)) (VP (VBP do) (RB n't) (VP...   \n",
       "...                                                 ...   \n",
       "9709  (ROOT (S (PP (IN Since) (NP (CD 1998))) (, ,) ...   \n",
       "9710  (ROOT (S (NP (NP (JJ Eighty) (NN percent)) (PP...   \n",
       "9711  (ROOT (S (ADVP (RB Finally)) (, ,) (NP (DT the...   \n",
       "9712  (ROOT (S (S (NP (NNP Cirque) (NNP du) (NNP Sol...   \n",
       "9713  (ROOT (S (NP (FW i)) (VP (MD 'll) (VP (VP (VB ...   \n",
       "\n",
       "                                        sentence2_parse  \\\n",
       "0     (ROOT (S (NP (NN Everyone)) (VP (ADVP (RB real...   \n",
       "1     (ROOT (S (NP (NP (DT The) (NNP Government) (NN...   \n",
       "2     (ROOT (S (NP (PRP I)) (VP (VP (VBP like) (NP (...   \n",
       "3     (ROOT (S (NP (PRP$ My) (JJ favorite) (NNS rest...   \n",
       "4     (ROOT (S (NP (PRP I)) (VP (VBP know) (ADVP (RB...   \n",
       "...                                                 ...   \n",
       "9709  (ROOT (S (NP (NNP LSC)) (VP (VBZ has) (VP (VBN...   \n",
       "9710  (ROOT (S (NP (NP (NNS Pagers)) (PP (IN in) (NP...   \n",
       "9711  (ROOT (S (NP (DT The) (NNP FDA)) (VP (VBZ is) ...   \n",
       "9712  (ROOT (S (NP (NNP Cirque) (NNP du) (NNP Soleil...   \n",
       "9713  (ROOT (S (NP (PRP I)) (VP (VBP wont) (RB even)...   \n",
       "\n",
       "                                              sentence1  \\\n",
       "0                        The new rights are nice enough   \n",
       "1     This site includes a list of all award winners...   \n",
       "2     uh i don't know i i have mixed emotions about ...   \n",
       "3     yeah i i think my favorite restaurant is alway...   \n",
       "4            i don't know um do you do a lot of camping   \n",
       "...                                                 ...   \n",
       "9709  Since 1998, LSC has initiated and overseen sig...   \n",
       "9710  Eighty percent of pagers in the United States ...   \n",
       "9711  Finally, the FDA will conduct workshops, issue...   \n",
       "9712  Cirque du Soleil's The latest from the acclaim...   \n",
       "9713  i'll listen  and agree with what i think sound...   \n",
       "\n",
       "                                              sentence2         label1  \\\n",
       "0            Everyone really likes the newest benefits         neutral   \n",
       "1     The Government Executive articles housed on th...  contradiction   \n",
       "2     I like him for the most part, but would still ...     entailment   \n",
       "3     My favorite restaurants are always at least a ...  contradiction   \n",
       "4                                       I know exactly.  contradiction   \n",
       "...                                                 ...            ...   \n",
       "9709  LSC has been focusing on improving it's state ...        neutral   \n",
       "9710  Pagers in the United States were unaffected by...  contradiction   \n",
       "9711              The FDA is set to conduct workshops.      entailment   \n",
       "9712       Cirque du Soleil is an international troupe.     entailment   \n",
       "9713                      I wont even bother listening.  contradiction   \n",
       "\n",
       "             label2         label3         label4         label5  \\\n",
       "0        entailment        neutral        neutral        neutral   \n",
       "1     contradiction  contradiction  contradiction  contradiction   \n",
       "2        entailment     entailment     entailment     entailment   \n",
       "3     contradiction  contradiction  contradiction  contradiction   \n",
       "4     contradiction  contradiction  contradiction  contradiction   \n",
       "...             ...            ...            ...            ...   \n",
       "9709        neutral     entailment        neutral     entailment   \n",
       "9710  contradiction  contradiction  contradiction  contradiction   \n",
       "9711     entailment     entailment     entailment     entailment   \n",
       "9712     entailment     entailment     entailment     entailment   \n",
       "9713  contradiction  contradiction  contradiction  contradiction   \n",
       "\n",
       "         gold_label  \n",
       "0           neutral  \n",
       "1     contradiction  \n",
       "2        entailment  \n",
       "3     contradiction  \n",
       "4     contradiction  \n",
       "...             ...  \n",
       "9709        neutral  \n",
       "9710  contradiction  \n",
       "9711     entailment  \n",
       "9712     entailment  \n",
       "9713  contradiction  \n",
       "\n",
       "[9714 rows x 16 columns]"
      ]
     },
     "execution_count": 10,
     "metadata": {},
     "output_type": "execute_result"
    }
   ],
   "source": [
    "mnli_matched"
   ]
  },
  {
   "cell_type": "code",
   "execution_count": 11,
   "metadata": {},
   "outputs": [],
   "source": [
    "mnli_matched_only_sent1 = mnli_matched.copy()\n",
    "mnli_matched_only_sent1['sentence1'] = mnli_matched_only_sent1.apply(lambda row: shuffle_text(row['sentence1']), axis=1)\n",
    "\n",
    "write_dataframe(mnli_matched_only_sent1, os.path.join(mnli_output_dir, 'shuffle_sent1'), 'dev_matched.tsv')\n",
    "\n",
    "mnli_mismatched_only_sent1 = mnli_matched.copy()\n",
    "mnli_mismatched_only_sent1['sentence1'] = mnli_mismatched_only_sent1.apply(lambda row: shuffle_text(row['sentence1']), axis=1)\n",
    "\n",
    "write_dataframe(mnli_mismatched_only_sent1, os.path.join(mnli_output_dir, 'shuffle_sent1'), 'dev_mismatched.tsv')"
   ]
  },
  {
   "cell_type": "code",
   "execution_count": 12,
   "metadata": {},
   "outputs": [],
   "source": [
    "mnli_matched_only_sent2 = mnli_matched.copy()\n",
    "mnli_matched_only_sent2['sentence2'] = mnli_matched_only_sent2.apply(lambda row: shuffle_text(row['sentence2']), axis=1)\n",
    "\n",
    "write_dataframe(mnli_matched_only_sent2, os.path.join(mnli_output_dir, 'shuffle_sent2'), 'dev_matched.tsv')\n",
    "\n",
    "mnli_mismatched_only_sent2 = mnli_matched.copy()\n",
    "mnli_mismatched_only_sent2['sentence2'] = mnli_mismatched_only_sent2.apply(lambda row: shuffle_text(row['sentence2']), axis=1)\n",
    "\n",
    "write_dataframe(mnli_mismatched_only_sent2, os.path.join(mnli_output_dir, 'shuffle_sent2'), 'dev_mismatched.tsv')\n"
   ]
  },
  {
   "cell_type": "code",
   "execution_count": 13,
   "metadata": {},
   "outputs": [],
   "source": [
    "mnli_matched_both = mnli_matched.copy()\n",
    "mnli_matched_both['sentence1'] = mnli_matched_both.apply(lambda row: shuffle_text(row['sentence1']), axis=1)\n",
    "mnli_matched_both['sentence2'] = mnli_matched_both.apply(lambda row: shuffle_text(row['sentence2']), axis=1)\n",
    "\n",
    "write_dataframe(mnli_matched_both, os.path.join(mnli_output_dir, 'shuffle_both'), 'dev_matched.tsv')\n",
    "\n",
    "mnli_mismatched_both = mnli_mismatched.copy()\n",
    "mnli_mismatched_both['sentence1'] = mnli_mismatched_both.apply(lambda row: shuffle_text(row['sentence1']), axis=1)\n",
    "mnli_mismatched_both['sentence2'] = mnli_mismatched_both.apply(lambda row: shuffle_text(row['sentence2']), axis=1)\n",
    "\n",
    "write_dataframe(mnli_mismatched_both, os.path.join(mnli_output_dir, 'shuffle_both'), 'dev_mismatched.tsv')"
   ]
  },
  {
   "cell_type": "markdown",
   "metadata": {},
   "source": [
    "## QNLI"
   ]
  },
  {
   "cell_type": "code",
   "execution_count": 14,
   "metadata": {},
   "outputs": [],
   "source": [
    "data_dir = '../glue_data/QNLI/'\n",
    "qnli_output_dir = '../adversarial_glue_data/QNLI/'\n",
    "if not os.path.exists(qnli_output_dir):\n",
    "    os.mkdir(qnli_output_dir)\n",
    "\n",
    "\n",
    "qnli = pd.read_csv(data_dir + 'dev.tsv', delimiter='\\t', quoting=csv.QUOTE_NONE)"
   ]
  },
  {
   "cell_type": "code",
   "execution_count": 15,
   "metadata": {},
   "outputs": [
    {
     "name": "stdout",
     "output_type": "stream",
     "text": [
      "5463\n"
     ]
    }
   ],
   "source": [
    "qnli_only_question = qnli.copy()\n",
    "qnli_only_question['question'] = qnli_only_question.apply(lambda row: shuffle_text(row['question']), axis=1)\n",
    "\n",
    "# write_dataframe(qnli_only_question, os.path.join(qnli_output_dir, 'shuffle_question'), 'dev.tsv')\n",
    "print(len(qnli_only_question))"
   ]
  },
  {
   "cell_type": "code",
   "execution_count": 16,
   "metadata": {},
   "outputs": [
    {
     "name": "stdout",
     "output_type": "stream",
     "text": [
      "5463\n"
     ]
    }
   ],
   "source": [
    "qnli_only_sent = qnli.copy()\n",
    "qnli_only_sent['sentence'] = qnli_only_sent.apply(lambda row: shuffle_text(row['sentence']), axis=1)\n",
    "\n",
    "# write_dataframe(qnli_only_sent, os.path.join(qnli_output_dir, 'shuffle_sent'), 'dev.tsv')\n",
    "print(len(qnli_only_sent))"
   ]
  },
  {
   "cell_type": "code",
   "execution_count": 17,
   "metadata": {
    "scrolled": true
   },
   "outputs": [
    {
     "name": "stdout",
     "output_type": "stream",
     "text": [
      "5463\n"
     ]
    }
   ],
   "source": [
    "qnli_only_both = qnli.copy()\n",
    "qnli_only_both['sentence'] = qnli_only_both.apply(lambda row: shuffle_text(row['sentence']), axis=1)\n",
    "qnli_only_both['question'] = qnli_only_both.apply(lambda row: shuffle_text(row['question']), axis=1)\n",
    "\n",
    "# write_dataframe(qnli_only_both, os.path.join(qnli_output_dir, 'shuffle_both'), 'dev.tsv')\n",
    "print(len(qnli_only_both))"
   ]
  },
  {
   "cell_type": "markdown",
   "metadata": {},
   "source": [
    "# SST"
   ]
  },
  {
   "cell_type": "code",
   "execution_count": 18,
   "metadata": {},
   "outputs": [],
   "source": [
    "data_dir = '../glue_data/SST-2/'\n",
    "sst_output_dir = '../adversarial_glue_data/SST/'\n",
    "if not os.path.exists(sst_output_dir):\n",
    "    os.mkdir(sst_output_dir)\n",
    "\n",
    "\n",
    "sst = pd.read_csv(data_dir + 'dev.tsv', delimiter='\\t')"
   ]
  },
  {
   "cell_type": "code",
   "execution_count": 19,
   "metadata": {},
   "outputs": [],
   "source": [
    "sst_shuff = sst.copy()\n",
    "sst_shuff['sentence'] = sst_shuff.apply(lambda row: shuffle_text(row['sentence']), axis=1)\n",
    "sst_shuff.to_csv(os.path.join(sst_output_dir, 'dev_shuff.tsv'), sep='\\t', index=False)"
   ]
  },
  {
   "cell_type": "markdown",
   "metadata": {},
   "source": [
    "# MRPC"
   ]
  },
  {
   "cell_type": "code",
   "execution_count": 20,
   "metadata": {},
   "outputs": [],
   "source": [
    "data_dir = '../glue_data/MRPC/'\n",
    "mrpc_output_dir = '../adversarial_glue_data/MRPC/'\n",
    "if not os.path.exists(mrpc_output_dir):\n",
    "    os.mkdir(mrpc_output_dir)\n",
    "\n",
    "mrpc = pd.read_csv(data_dir + 'dev.tsv', delimiter='\\t', quoting=csv.QUOTE_NONE)"
   ]
  },
  {
   "cell_type": "code",
   "execution_count": 21,
   "metadata": {},
   "outputs": [],
   "source": [
    "mrpc_str1_shuff = mrpc.copy()\n",
    "mrpc_str2_shuff = mrpc.copy()\n",
    "mrpc_shuff = mrpc.copy()"
   ]
  },
  {
   "cell_type": "code",
   "execution_count": 22,
   "metadata": {},
   "outputs": [],
   "source": [
    "mrpc_str1_shuff['#1 String'] = mrpc_str1_shuff.apply(lambda row: shuffle_text(row['#1 String']), axis=1)\n",
    "\n",
    "mrpc_str2_shuff['#2 String'] = mrpc_str2_shuff.apply(lambda row: shuffle_text(row['#2 String']), axis=1)\n",
    "\n",
    "mrpc_shuff['#1 String'] = mrpc_shuff.apply(lambda row: shuffle_text(row['#1 String']), axis=1)\n",
    "mrpc_shuff['#2 String'] = mrpc_shuff.apply(lambda row: shuffle_text(row['#2 String']), axis=1)"
   ]
  },
  {
   "cell_type": "code",
   "execution_count": 23,
   "metadata": {},
   "outputs": [],
   "source": [
    "mrpc_str1_shuff.to_csv(os.path.join(mrpc_output_dir, 'dev_str1_shuff.tsv'), sep='\\t', index=False)\n",
    "mrpc_str2_shuff.to_csv(os.path.join(mrpc_output_dir, 'dev_str2_shuff.tsv'), sep='\\t', index=False)\n",
    "mrpc_shuff.to_csv(os.path.join(mrpc_output_dir, 'dev_shuff.tsv'), sep='\\t', index=False)"
   ]
  },
  {
   "cell_type": "markdown",
   "metadata": {},
   "source": [
    "# STS"
   ]
  },
  {
   "cell_type": "code",
   "execution_count": 24,
   "metadata": {},
   "outputs": [],
   "source": [
    "data_dir = '../glue_data/STS-B/'\n",
    "sts_output_dir = '../adversarial_glue_data/STS/'\n",
    "if not os.path.exists(sts_output_dir):\n",
    "    os.mkdir(sts_output_dir)\n",
    "\n",
    "\n",
    "sts = pd.read_csv(data_dir + 'dev.tsv', delimiter='\\t', quoting=csv.QUOTE_NONE)"
   ]
  },
  {
   "cell_type": "code",
   "execution_count": 25,
   "metadata": {},
   "outputs": [],
   "source": [
    "sts_sent1_shuff = sts.copy()\n",
    "sts_sent2_shuff = sts.copy()\n",
    "sts_shuff = sts.copy()"
   ]
  },
  {
   "cell_type": "code",
   "execution_count": 26,
   "metadata": {},
   "outputs": [],
   "source": [
    "sts_sent1_shuff['sentence1'] = sts_sent1_shuff.apply(lambda row: shuffle_text(row['sentence1']), axis=1)\n",
    "\n",
    "sts_sent2_shuff['sentence2'] = sts_sent2_shuff.apply(lambda row: shuffle_text(row['sentence2']), axis=1)\n",
    "\n",
    "sts_shuff['sentence1'] = sts_shuff.apply(lambda row: shuffle_text(row['sentence1']), axis=1)\n",
    "sts_shuff['sentence2'] = sts_shuff.apply(lambda row: shuffle_text(row['sentence1']), axis=1)"
   ]
  },
  {
   "cell_type": "code",
   "execution_count": 27,
   "metadata": {},
   "outputs": [],
   "source": [
    "sts_sent1_shuff.to_csv(os.path.join(sts_output_dir, 'dev_sent1_shuff.tsv'), sep='\\t', index=False)\n",
    "sts_sent2_shuff.to_csv(os.path.join(sts_output_dir, 'dev_sent2_shuff.tsv'), sep='\\t', index=False)\n",
    "sts_shuff.to_csv(os.path.join(sts_output_dir, 'dev_shuff.tsv'), sep='\\t', index=False)"
   ]
  },
  {
   "cell_type": "markdown",
   "metadata": {},
   "source": [
    "# QQP"
   ]
  },
  {
   "cell_type": "code",
   "execution_count": 28,
   "metadata": {},
   "outputs": [],
   "source": [
    "data_dir = '../glue_data/QQP/'\n",
    "qqp_output_dir = '../adversarial_glue_data/QQP/'\n",
    "if not os.path.exists(qqp_output_dir):\n",
    "    os.mkdir(qqp_output_dir)\n",
    "\n",
    "\n",
    "qqp = pd.read_csv(data_dir + 'dev.tsv', delimiter='\\t', quoting=csv.QUOTE_NONE)\n",
    "qqp.question1 = qqp.question1.astype('str')\n",
    "qqp.question2 = qqp.question2.astype('str')"
   ]
  },
  {
   "cell_type": "code",
   "execution_count": 29,
   "metadata": {},
   "outputs": [],
   "source": [
    "qqp_shuff = qqp.copy()\n",
    "qqp_q1_shuff = qqp.copy()\n",
    "qqp_q2_shuff = qqp.copy()"
   ]
  },
  {
   "cell_type": "code",
   "execution_count": 30,
   "metadata": {},
   "outputs": [],
   "source": [
    "qqp_q1_shuff['question1'] = qqp_q1_shuff.apply(lambda row: shuffle_text(row['question1']), axis=1)\n",
    "\n",
    "qqp_q2_shuff['question2'] = qqp_q2_shuff.apply(lambda row: shuffle_text(row['question2']), axis=1)\n",
    "\n",
    "qqp_shuff['question1'] = qqp_shuff.apply(lambda row: shuffle_text(row['question1']), axis=1)\n",
    "qqp_shuff['question2'] = qqp_shuff.apply(lambda row: shuffle_text(row['question2']), axis=1)"
   ]
  },
  {
   "cell_type": "code",
   "execution_count": 31,
   "metadata": {},
   "outputs": [],
   "source": [
    "qqp_q1_shuff.to_csv(os.path.join(qqp_output_dir, 'dev_q1_shuff.tsv'), sep='\\t', index=False)\n",
    "qqp_q2_shuff.to_csv(os.path.join(qqp_output_dir, 'dev_q2_shuff.tsv'), sep='\\t', index=False)\n",
    "qqp_shuff.to_csv(os.path.join(qqp_output_dir, 'dev_shuff.tsv'), sep='\\t', index=False)"
   ]
  },
  {
   "cell_type": "code",
   "execution_count": null,
   "metadata": {},
   "outputs": [],
   "source": []
  }
 ],
 "metadata": {
  "kernelspec": {
   "display_name": "Python 3",
   "language": "python",
   "name": "python3"
  },
  "language_info": {
   "codemirror_mode": {
    "name": "ipython",
    "version": 3
   },
   "file_extension": ".py",
   "mimetype": "text/x-python",
   "name": "python",
   "nbconvert_exporter": "python",
   "pygments_lexer": "ipython3",
   "version": "3.7.7"
  }
 },
 "nbformat": 4,
 "nbformat_minor": 2
}
